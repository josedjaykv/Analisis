{
  "nbformat": 4,
  "nbformat_minor": 0,
  "metadata": {
    "colab": {
      "provenance": [],
      "collapsed_sections": [
        "88HZoghW9D31"
      ],
      "authorship_tag": "ABX9TyNiCVW+cz+qkq7XzYM7vNVY",
      "include_colab_link": true
    },
    "kernelspec": {
      "name": "python3",
      "display_name": "Python 3"
    },
    "language_info": {
      "name": "python"
    }
  },
  "cells": [
    {
      "cell_type": "markdown",
      "metadata": {
        "id": "view-in-github",
        "colab_type": "text"
      },
      "source": [
        "<a href=\"https://colab.research.google.com/github/josedjaykv/Analisis/blob/main/An%C3%A1lisis.ipynb\" target=\"_parent\"><img src=\"https://colab.research.google.com/assets/colab-badge.svg\" alt=\"Open In Colab\"/></a>"
      ]
    },
    {
      "cell_type": "code",
      "source": [
        "# Importar las librerías\n",
        "import matplotlib.pyplot as plt\n",
        "import numpy as np"
      ],
      "metadata": {
        "id": "2cnCZpvjySNs"
      },
      "execution_count": 9,
      "outputs": []
    },
    {
      "cell_type": "markdown",
      "source": [
        "# **Graficar**"
      ],
      "metadata": {
        "id": "pGVr-Q895DxK"
      }
    },
    {
      "cell_type": "code",
      "source": [
        "# Crear gráfica y = 3x^2 - sen(x) (0<=x<=pi)\n",
        "\n",
        "x = np.linspace(0, 0.5, 100)\n",
        "y = 3*x**2 - np.sin(x)\n",
        "\n",
        "plt.plot(x, y)\n",
        "plt.axhline(0,c='r') # Graficamos el eje X\n",
        "plt.xlabel('x')\n",
        "plt.ylabel('y')\n",
        "plt.title('y = 3x^2 - sen(x)')\n",
        "plt.show()"
      ],
      "metadata": {
        "colab": {
          "base_uri": "https://localhost:8080/",
          "height": 472
        },
        "id": "EM7EVFcO0hcv",
        "outputId": "e96fc1ed-5b6e-4b92-d477-a5e7ab23cd37"
      },
      "execution_count": 19,
      "outputs": [
        {
          "output_type": "display_data",
          "data": {
            "text/plain": [
              "<Figure size 640x480 with 1 Axes>"
            ],
            "image/png": "[encoded data removed]"
          },
          "metadata": {}
        }
      ]
    },
    {
      "cell_type": "markdown",
      "source": [
        "# **Ciclos**"
      ],
      "metadata": {
        "id": "-LaW95rG5J8T"
      }
    },
    {
      "cell_type": "markdown",
      "source": [
        "### Ciclo for"
      ],
      "metadata": {
        "id": "88HZoghW9D31"
      }
    },
    {
      "cell_type": "code",
      "source": [
        "# Suma de 1 a 100\n",
        "def suma(i,n):\n",
        "  suma = 0;\n",
        "  for s in range(i, n+1):\n",
        "      suma += s;\n",
        "  return suma\n",
        "\n",
        "# Para verificarla usamos [(n+1)n]/2"
      ],
      "metadata": {
        "id": "XSMynxvU5Ocp"
      },
      "execution_count": 42,
      "outputs": []
    },
    {
      "cell_type": "code",
      "source": [
        "print(suma(1,100)) # sumamos los números desde 99 a 100, incluyendo el 100 (n+1)"
      ],
      "metadata": {
        "colab": {
          "base_uri": "https://localhost:8080/"
        },
        "id": "xu7M0nme5h4Z",
        "outputId": "6e8edb5f-1d6d-4392-8330-25a6da020134"
      },
      "execution_count": 43,
      "outputs": [
        {
          "output_type": "stream",
          "name": "stdout",
          "text": [
            "5050\n"
          ]
        }
      ]
    },
    {
      "cell_type": "markdown",
      "source": [
        "### Cliclo while"
      ],
      "metadata": {
        "id": "oPYZJ7nv9Out"
      }
    },
    {
      "cell_type": "markdown",
      "source": [
        "No se conoce el número de repeticiones, pero si una condición de parada"
      ],
      "metadata": {
        "id": "hMVKiBT09aT0"
      }
    },
    {
      "cell_type": "code",
      "source": [
        "def sumaWhile(n):\n",
        "  suma = 0;\n",
        "  i = 0; # contador\n",
        "  while(i<=n):\n",
        "    suma += i\n",
        "    i += 1\n",
        "  return suma;"
      ],
      "metadata": {
        "id": "_51xT9Jl7rdq"
      },
      "execution_count": 49,
      "outputs": []
    },
    {
      "cell_type": "code",
      "source": [
        "sumaWhile(100)"
      ],
      "metadata": {
        "colab": {
          "base_uri": "https://localhost:8080/"
        },
        "id": "UO0gDHTW9-bV",
        "outputId": "50bfd5e3-3e71-46f8-ba1f-7c7a5d4c3ae7"
      },
      "execution_count": 50,
      "outputs": [
        {
          "output_type": "execute_result",
          "data": {
            "text/plain": [
              "5050"
            ]
          },
          "metadata": {},
          "execution_count": 50
        }
      ]
    },
    {
      "cell_type": "code",
      "source": [
        "# Función en la que vamos a sumar desde 1 hasta que la suma sea menor o igual a 100\n",
        "def sumaWhile2(n):\n",
        "  suma = 0;\n",
        "  i = 0; # contador\n",
        "  while suma <= 100 and suma+i <= 100:\n",
        "    suma += i\n",
        "    i += 1\n",
        "  return suma;"
      ],
      "metadata": {
        "id": "CvSqL5mA-AiF"
      },
      "execution_count": 51,
      "outputs": []
    },
    {
      "cell_type": "code",
      "source": [
        "sumaWhile2(100)"
      ],
      "metadata": {
        "colab": {
          "base_uri": "https://localhost:8080/"
        },
        "id": "W0bmGp4E_0c-",
        "outputId": "8628f24d-7c99-42e8-9da1-185e13952f32"
      },
      "execution_count": 52,
      "outputs": [
        {
          "output_type": "execute_result",
          "data": {
            "text/plain": [
              "91"
            ]
          },
          "metadata": {},
          "execution_count": 52
        }
      ]
    },
    {
      "cell_type": "code",
      "source": [],
      "metadata": {
        "id": "9btNYkiM_2bz"
      },
      "execution_count": null,
      "outputs": []
    },
    {
      "cell_type": "markdown",
      "source": [
        "### Condicionales"
      ],
      "metadata": {
        "id": "NDJxHfFm__-n"
      }
    },
    {
      "cell_type": "code",
      "source": [
        "# Función raiz\n",
        "\n",
        "def raiz(x):\n",
        "  if x>=0:\n",
        "    y=np.sqrt(x)\n",
        "    return print(y)\n",
        "  else:\n",
        "    return print(\"El número es negativo\")"
      ],
      "metadata": {
        "id": "HE-GL8wBAD12"
      },
      "execution_count": 58,
      "outputs": []
    },
    {
      "cell_type": "code",
      "source": [
        "raiz(-1)\n",
        "raiz(3)\n",
        "raiz(9)"
      ],
      "metadata": {
        "colab": {
          "base_uri": "https://localhost:8080/"
        },
        "id": "5iMWe-gEAZkg",
        "outputId": "4f0c2d31-0de9-426b-a805-5eae2253823a"
      },
      "execution_count": 59,
      "outputs": [
        {
          "output_type": "stream",
          "name": "stdout",
          "text": [
            "El número es negativo\n",
            "1.7320508075688772\n",
            "3.0\n"
          ]
        }
      ]
    },
    {
      "cell_type": "code",
      "source": [],
      "metadata": {
        "id": "fhckG7h2A2Wj"
      },
      "execution_count": null,
      "outputs": []
    }
  ]
}