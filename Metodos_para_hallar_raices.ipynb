{
  "nbformat": 4,
  "nbformat_minor": 0,
  "metadata": {
    "colab": {
      "provenance": [],
      "toc_visible": true,
      "authorship_tag": "ABX9TyNvJyMYI5pigr6UqSQwwXqv",
      "include_colab_link": true
    },
    "kernelspec": {
      "name": "python3",
      "display_name": "Python 3"
    },
    "language_info": {
      "name": "python"
    }
  },
  "cells": [
    {
      "cell_type": "markdown",
      "metadata": {
        "id": "view-in-github",
        "colab_type": "text"
      },
      "source": [
        "<a href=\"https://colab.research.google.com/github/josedjaykv/Analisis/blob/main/Metodos_para_hallar_raices.ipynb\" target=\"_parent\"><img src=\"https://colab.research.google.com/assets/colab-badge.svg\" alt=\"Open In Colab\"/></a>"
      ]
    },
    {
      "cell_type": "code",
      "execution_count": 3,
      "metadata": {
        "id": "ba29eXG71YL8"
      },
      "outputs": [],
      "source": [
        "import numpy as np\n",
        "import matplotlib.pyplot as plt"
      ]
    },
    {
      "cell_type": "markdown",
      "source": [
        "## Ponemos la función"
      ],
      "metadata": {
        "id": "Sj8GrHE03FCV"
      }
    },
    {
      "cell_type": "code",
      "source": [
        "def funcion(x):\n",
        "  y = 3*x**2-np.exp(x)\n",
        "  return y"
      ],
      "metadata": {
        "id": "mqamB1gY1mGC"
      },
      "execution_count": null,
      "outputs": []
    },
    {
      "cell_type": "markdown",
      "source": [
        "NO OLVIDAR EJECUTAR"
      ],
      "metadata": {
        "id": "RazYYy3E2bq7"
      }
    },
    {
      "cell_type": "code",
      "source": [
        "# Para verificar\n",
        "print(funcion(-1))\n",
        "print(funcion(0))"
      ],
      "metadata": {
        "colab": {
          "base_uri": "https://localhost:8080/"
        },
        "id": "Ep9xO_JF2ROQ",
        "outputId": "197b88fc-681b-4ba3-830e-12747f2562fe"
      },
      "execution_count": null,
      "outputs": [
        {
          "output_type": "stream",
          "name": "stdout",
          "text": [
            "2.6321205588285577\n",
            "-1.0\n"
          ]
        }
      ]
    },
    {
      "cell_type": "markdown",
      "source": [
        "## Método de bisecciones"
      ],
      "metadata": {
        "id": "xEh4Xi2Y20WD"
      }
    },
    {
      "cell_type": "code",
      "source": [
        "def biseccion(a,b,tolerancia, delta, Nmax): # Intervalo cambio de signo, criterios de paradad (tolerancia, delta, número máximo)\n",
        "  i = 0;                   # contador\n",
        "  d = delta + 1            # le sumamos 1 para que el delta sea mayor y pueda entrar al ciclo | d es el valor absoluto de y\n",
        "  error = tolerancia + 1   # Error < épsilon\n",
        "  s = np.array([])         # Solución\n",
        "  aux = a                  # Variable auxiliar\n",
        "\n",
        "  while (error > tolerancia) and (delta < d) and (Nmax > i):\n",
        "    i += 1\n",
        "    x = (a+b)/2            # Promedio entre a y b\n",
        "    y = funcion(x)         # Función\n",
        "    d = abs(y)\n",
        "    error = abs(x - aux)\n",
        "    fila = np.array([i,x,y,error])\n",
        "    s = np.append(s, fila)\n",
        "\n",
        "    if (y*funcion(a) < 0):\n",
        "      b = x\n",
        "    else:\n",
        "      a = x\n",
        "\n",
        "    aux = x                # Ese error es calculado respecto a la x inmediatamente anterior\n",
        "\n",
        "  print(s)"
      ],
      "metadata": {
        "id": "Qu_Yf5512Ut-"
      },
      "execution_count": null,
      "outputs": []
    },
    {
      "cell_type": "code",
      "source": [
        "biseccion(-1,0,0,0,200)"
      ],
      "metadata": {
        "colab": {
          "base_uri": "https://localhost:8080/"
        },
        "id": "6gQaVD0F8zdJ",
        "outputId": "6f14c2f9-d0ed-44c3-cd2f-a8006a951d14"
      },
      "execution_count": null,
      "outputs": [
        {
          "output_type": "stream",
          "name": "stdout",
          "text": [
            "[ 1.00000000e+00 -5.00000000e-01  1.43469340e-01  5.00000000e-01\n",
            "  2.00000000e+00 -2.50000000e-01 -5.91300783e-01  2.50000000e-01\n",
            "  3.00000000e+00 -3.75000000e-01 -2.65414279e-01  1.25000000e-01\n",
            "  4.00000000e+00 -4.37500000e-01 -7.14297764e-02  6.25000000e-02\n",
            "  5.00000000e+00 -4.68750000e-01  3.33956779e-02  3.12500000e-02\n",
            "  6.00000000e+00 -4.53125000e-01 -1.96718770e-02  1.56250000e-02\n",
            "  7.00000000e+00 -4.60937500e-01  6.69804230e-03  7.81250000e-03\n",
            "  8.00000000e+00 -4.57031250e-01 -6.52786306e-03  3.90625000e-03\n",
            "  9.00000000e+00 -4.58984375e-01  7.48508301e-05  1.95312500e-03\n",
            "  1.00000000e+01 -4.58007812e-01 -3.22906552e-03  9.76562500e-04\n",
            "  1.10000000e+01 -4.58496094e-01 -1.57774723e-03  4.88281250e-04\n",
            "  1.20000000e+01 -4.58740234e-01 -7.51608177e-04  2.44140625e-04\n",
            "  1.30000000e+01 -4.58862305e-01 -3.38418668e-04  1.22070312e-04\n",
            "  1.40000000e+01 -4.58923340e-01 -1.31793918e-04  6.10351562e-05\n",
            "  1.50000000e+01 -4.58953857e-01 -2.84740435e-05  3.05175781e-05\n",
            "  1.60000000e+01 -4.58969116e-01  2.31877684e-05  1.52587891e-05\n",
            "  1.70000000e+01 -4.58961487e-01 -2.64329381e-06  7.62939453e-06\n",
            "  1.80000000e+01 -4.58965302e-01  1.02721982e-05  3.81469727e-06\n",
            "  1.90000000e+01 -4.58963394e-01  3.81444243e-06  1.90734863e-06\n",
            "  2.00000000e+01 -4.58962440e-01  5.85571869e-07  9.53674316e-07\n",
            "  2.10000000e+01 -4.58961964e-01 -1.02886158e-06  4.76837158e-07\n",
            "  2.20000000e+01 -4.58962202e-01 -2.21645010e-07  2.38418579e-07\n",
            "  2.30000000e+01 -4.58962321e-01  1.81963391e-07  1.19209290e-07\n",
            "  2.40000000e+01 -4.58962262e-01 -1.98408187e-08  5.96046448e-08\n",
            "  2.50000000e+01 -4.58962291e-01  8.10612840e-08  2.98023224e-08\n",
            "  2.60000000e+01 -4.58962277e-01  3.06102321e-08  1.49011612e-08\n",
            "  2.70000000e+01 -4.58962269e-01  5.38470668e-09  7.45058060e-09\n",
            "  2.80000000e+01 -4.58962265e-01 -7.22805615e-09  3.72529030e-09\n",
            "  2.90000000e+01 -4.58962267e-01 -9.21674737e-10  1.86264515e-09\n",
            "  3.00000000e+01 -4.58962268e-01  2.23151586e-09  9.31322575e-10\n",
            "  3.10000000e+01 -4.58962268e-01  6.54920562e-10  4.65661287e-10\n",
            "  3.20000000e+01 -4.58962267e-01 -1.33377198e-10  2.32830644e-10\n",
            "  3.30000000e+01 -4.58962268e-01  2.60771849e-10  1.16415322e-10\n",
            "  3.40000000e+01 -4.58962268e-01  6.36972697e-11  5.82076609e-11\n",
            "  3.50000000e+01 -4.58962268e-01 -3.48399087e-11  2.91038305e-11\n",
            "  3.60000000e+01 -4.58962268e-01  1.44287915e-11  1.45519152e-11\n",
            "  3.70000000e+01 -4.58962268e-01 -1.02056141e-11  7.27595761e-12\n",
            "  3.80000000e+01 -4.58962268e-01  2.11153317e-12  3.63797881e-12\n",
            "  3.90000000e+01 -4.58962268e-01 -4.04698497e-12  1.81898940e-12\n",
            "  4.00000000e+01 -4.58962268e-01 -9.67670388e-13  9.09494702e-13\n",
            "  4.10000000e+01 -4.58962268e-01  5.71875880e-13  4.54747351e-13\n",
            "  4.20000000e+01 -4.58962268e-01 -1.97841743e-13  2.27373675e-13\n",
            "  4.30000000e+01 -4.58962268e-01  1.86961557e-13  1.13686838e-13\n",
            "  4.40000000e+01 -4.58962268e-01 -5.55111512e-15  5.68434189e-14\n",
            "  4.50000000e+01 -4.58962268e-01  9.07052211e-14  2.84217094e-14\n",
            "  4.60000000e+01 -4.58962268e-01  4.26325641e-14  1.42108547e-14\n",
            "  4.70000000e+01 -4.58962268e-01  1.86517468e-14  7.10542736e-15\n",
            "  4.80000000e+01 -4.58962268e-01  6.66133815e-15  3.55271368e-15\n",
            "  4.90000000e+01 -4.58962268e-01  6.66133815e-16  1.77635684e-15\n",
            "  5.00000000e+01 -4.58962268e-01 -2.33146835e-15  8.88178420e-16\n",
            "  5.10000000e+01 -4.58962268e-01 -8.88178420e-16  4.44089210e-16\n",
            "  5.20000000e+01 -4.58962268e-01 -2.22044605e-16  2.22044605e-16\n",
            "  5.30000000e+01 -4.58962268e-01  2.22044605e-16  1.11022302e-16\n",
            "  5.40000000e+01 -4.58962268e-01  1.11022302e-16  5.55111512e-17\n",
            "  5.50000000e+01 -4.58962268e-01 -2.22044605e-16  5.55111512e-17\n",
            "  5.60000000e+01 -4.58962268e-01 -2.22044605e-16  0.00000000e+00]\n"
          ]
        }
      ]
    },
    {
      "cell_type": "code",
      "source": [
        "biseccion(0,1,0,0,200)"
      ],
      "metadata": {
        "colab": {
          "base_uri": "https://localhost:8080/"
        },
        "id": "N-QFm-u59DwN",
        "outputId": "25d51fc3-28c1-454b-cbe2-2f5023b79385"
      },
      "execution_count": null,
      "outputs": [
        {
          "output_type": "stream",
          "name": "stdout",
          "text": [
            "[ 1.00000000e+00  5.00000000e-01 -8.98721271e-01  5.00000000e-01\n",
            "  2.00000000e+00  7.50000000e-01 -4.29500017e-01  2.50000000e-01\n",
            "  3.00000000e+00  8.75000000e-01 -1.02000294e-01  1.25000000e-01\n",
            "  4.00000000e+00  9.37500000e-01  8.31292919e-02  6.25000000e-02\n",
            "  5.00000000e+00  9.06250000e-01 -1.11565825e-02  3.12500000e-02\n",
            "  6.00000000e+00  9.21875000e-01  3.55608238e-02  1.56250000e-02\n",
            "  7.00000000e+00  9.14062500e-01  1.20951397e-02  7.81250000e-03\n",
            "  8.00000000e+00  9.10156250e-01  4.42459134e-04  3.90625000e-03\n",
            "  9.00000000e+00  9.08203125e-01 -5.36377579e-03  1.95312500e-03\n",
            "  1.00000000e+01  9.09179688e-01 -2.46233571e-03  9.76562500e-04\n",
            "  1.10000000e+01  9.09667969e-01 -1.01035749e-03  4.88281250e-04\n",
            "  1.20000000e+01  9.09912109e-01 -2.84053958e-04  2.44140625e-04\n",
            "  1.30000000e+01  9.10034180e-01  7.91763947e-05  1.22070312e-04\n",
            "  1.40000000e+01  9.09973145e-01 -1.02445330e-04  6.10351562e-05\n",
            "  1.50000000e+01  9.10003662e-01 -1.16361049e-05  3.05175781e-05\n",
            "  1.60000000e+01  9.10018921e-01  3.37697356e-05  1.52587891e-05\n",
            "  1.70000000e+01  9.10011292e-01  1.10667130e-05  7.62939453e-06\n",
            "  1.80000000e+01  9.10007477e-01 -2.84721506e-07  3.81469727e-06\n",
            "  1.90000000e+01  9.10009384e-01  5.39098937e-06  1.90734863e-06\n",
            "  2.00000000e+01  9.10008430e-01  2.55313233e-06  9.53674316e-07\n",
            "  2.10000000e+01  9.10007954e-01  1.13420501e-06  4.76837158e-07\n",
            "  2.20000000e+01  9.10007715e-01  4.24741654e-07  2.38418579e-07\n",
            "  2.30000000e+01  9.10007596e-01  7.00100489e-08  1.19209290e-07\n",
            "  2.40000000e+01  9.10007536e-01 -1.07355735e-07  5.96046448e-08\n",
            "  2.50000000e+01  9.10007566e-01 -1.86728446e-08  2.98023224e-08\n",
            "  2.60000000e+01  9.10007581e-01  2.56686019e-08  1.49011612e-08\n",
            "  2.70000000e+01  9.10007574e-01  3.49787843e-09  7.45058060e-09\n",
            "  2.80000000e+01  9.10007570e-01 -7.58748309e-09  3.72529030e-09\n",
            "  2.90000000e+01  9.10007572e-01 -2.04480211e-09  1.86264515e-09\n",
            "  3.00000000e+01  9.10007573e-01  7.26538385e-10  9.31322575e-10\n",
            "  3.10000000e+01  9.10007572e-01 -6.59131860e-10  4.65661287e-10\n",
            "  3.20000000e+01  9.10007573e-01  3.37032624e-11  2.32830644e-10\n",
            "  3.30000000e+01  9.10007572e-01 -3.12714299e-10  1.16415322e-10\n",
            "  3.40000000e+01  9.10007572e-01 -1.39506184e-10  5.82076609e-11\n",
            "  3.50000000e+01  9.10007572e-01 -5.29012389e-11  2.91038305e-11\n",
            "  3.60000000e+01  9.10007572e-01 -9.59898827e-12  1.45519152e-11\n",
            "  3.70000000e+01  9.10007572e-01  1.20516930e-11  7.27595761e-12\n",
            "  3.80000000e+01  9.10007572e-01  1.22657440e-12  3.63797881e-12\n",
            "  3.90000000e+01  9.10007572e-01 -4.18598489e-12  1.81898940e-12\n",
            "  4.00000000e+01  9.10007572e-01 -1.47970525e-12  9.09494702e-13\n",
            "  4.10000000e+01  9.10007572e-01 -1.26565425e-13  4.54747351e-13\n",
            "  4.20000000e+01  9.10007572e-01  5.49782442e-13  2.27373675e-13\n",
            "  4.30000000e+01  9.10007572e-01  2.11830553e-13  1.13686838e-13\n",
            "  4.40000000e+01  9.10007572e-01  4.26325641e-14  5.68434189e-14\n",
            "  4.50000000e+01  9.10007572e-01 -4.21884749e-14  2.84217094e-14\n",
            "  4.60000000e+01  9.10007572e-01  4.44089210e-16  1.42108547e-14\n",
            "  4.70000000e+01  9.10007572e-01 -2.13162821e-14  7.10542736e-15\n",
            "  4.80000000e+01  9.10007572e-01 -1.02140518e-14  3.55271368e-15\n",
            "  4.90000000e+01  9.10007572e-01 -5.32907052e-15  1.77635684e-15\n",
            "  5.00000000e+01  9.10007572e-01 -2.66453526e-15  8.88178420e-16\n",
            "  5.10000000e+01  9.10007572e-01 -8.88178420e-16  4.44089210e-16\n",
            "  5.20000000e+01  9.10007572e-01 -4.44089210e-16  2.22044605e-16\n",
            "  5.30000000e+01  9.10007572e-01  0.00000000e+00  1.11022302e-16]\n"
          ]
        }
      ]
    },
    {
      "cell_type": "code",
      "source": [
        "biseccion(3,4,0,0,200)"
      ],
      "metadata": {
        "colab": {
          "base_uri": "https://localhost:8080/"
        },
        "id": "F4J5FMK7_UXm",
        "outputId": "7f36e9b6-e4a8-4704-8ff1-47fd2c894cf7"
      },
      "execution_count": null,
      "outputs": [
        {
          "output_type": "stream",
          "name": "stdout",
          "text": [
            "[ 1.00000000e+00  3.50000000e+00  3.63454804e+00  5.00000000e-01\n",
            "  2.00000000e+00  3.75000000e+00 -3.33582000e-01  2.50000000e-01\n",
            "  3.00000000e+00  3.62500000e+00  1.89715184e+00  1.25000000e-01\n",
            "  4.00000000e+00  3.68750000e+00  8.48108874e-01  6.25000000e-02\n",
            "  5.00000000e+00  3.71875000e+00  2.74458847e-01  3.12500000e-02\n",
            "  6.00000000e+00  3.73437500e+00 -2.51838048e-02  1.56250000e-02\n",
            "  7.00000000e+00  3.72656250e+00  1.25722003e-01  7.81250000e-03\n",
            "  8.00000000e+00  3.73046875e+00  5.05414585e-02  3.90625000e-03\n",
            "  9.00000000e+00  3.73242188e+00  1.27470721e-02  1.95312500e-03\n",
            "  1.00000000e+01  3.73339844e+00 -6.20128556e-03  9.76562500e-04\n",
            "  1.10000000e+01  3.73291016e+00  3.27716105e-03  4.88281250e-04\n",
            "  1.20000000e+01  3.73315430e+00 -1.46099501e-03  2.44140625e-04\n",
            "  1.30000000e+01  3.73303223e+00  9.08349792e-04  1.22070312e-04\n",
            "  1.40000000e+01  3.73309326e+00 -2.76255911e-04  6.10351562e-05\n",
            "  1.50000000e+01  3.73306274e+00  3.16063614e-04  3.05175781e-05\n",
            "  1.60000000e+01  3.73307800e+00  1.99080203e-05  1.52587891e-05\n",
            "  1.70000000e+01  3.73308563e+00 -1.28172903e-04  7.62939453e-06\n",
            "  1.80000000e+01  3.73308182e+00 -5.41321809e-05  3.81469727e-06\n",
            "  1.90000000e+01  3.73307991e+00 -1.71120152e-05  1.90734863e-06\n",
            "  2.00000000e+01  3.73307896e+00  1.39801882e-06  9.53674316e-07\n",
            "  2.10000000e+01  3.73307943e+00 -7.85699412e-06  4.76837158e-07\n",
            "  2.20000000e+01  3.73307920e+00 -3.22948663e-06  2.38418579e-07\n",
            "  2.30000000e+01  3.73307908e+00 -9.15733651e-07  1.19209290e-07\n",
            "  2.40000000e+01  3.73307902e+00  2.41142651e-07  5.96046448e-08\n",
            "  2.50000000e+01  3.73307905e+00 -3.37295489e-07  2.98023224e-08\n",
            "  2.60000000e+01  3.73307903e+00 -4.80764157e-08  1.49011612e-08\n",
            "  2.70000000e+01  3.73307902e+00  9.65331211e-08  7.45058060e-09\n",
            "  2.80000000e+01  3.73307903e+00  2.42283562e-08  3.72529030e-09\n",
            "  2.90000000e+01  3.73307903e+00 -1.19240298e-08  1.86264515e-09\n",
            "  3.00000000e+01  3.73307903e+00  6.15216322e-09  9.31322575e-10\n",
            "  3.10000000e+01  3.73307903e+00 -2.88593327e-09  4.65661287e-10\n",
            "  3.20000000e+01  3.73307903e+00  1.63311142e-09  2.32830644e-10\n",
            "  3.30000000e+01  3.73307903e+00 -6.26407370e-10  1.16415322e-10\n",
            "  3.40000000e+01  3.73307903e+00  5.03348474e-10  5.82076609e-11\n",
            "  3.50000000e+01  3.73307903e+00 -6.15258955e-11  2.91038305e-11\n",
            "  3.60000000e+01  3.73307903e+00  2.20914842e-10  1.45519152e-11\n",
            "  3.70000000e+01  3.73307903e+00  7.96873678e-11  7.27595761e-12\n",
            "  3.80000000e+01  3.73307903e+00  9.08784159e-12  3.63797881e-12\n",
            "  3.90000000e+01  3.73307903e+00 -2.62261324e-11  1.81898940e-12\n",
            "  4.00000000e+01  3.73307903e+00 -8.56914539e-12  9.09494702e-13\n",
            "  4.10000000e+01  3.73307903e+00  2.55795385e-13  4.54747351e-13\n",
            "  4.20000000e+01  3.73307903e+00 -4.15667500e-12  2.27373675e-13\n",
            "  4.30000000e+01  3.73307903e+00 -1.95399252e-12  1.13686838e-13\n",
            "  4.40000000e+01  3.73307903e+00 -8.52651283e-13  5.68434189e-14\n",
            "  4.50000000e+01  3.73307903e+00 -2.91322522e-13  2.84217094e-14\n",
            "  4.60000000e+01  3.73307903e+00 -2.13162821e-14  1.42108547e-14\n",
            "  4.70000000e+01  3.73307903e+00  1.13686838e-13  7.10542736e-15\n",
            "  4.80000000e+01  3.73307903e+00  4.26325641e-14  3.55271368e-15\n",
            "  4.90000000e+01  3.73307903e+00  1.42108547e-14  1.77635684e-15\n",
            "  5.00000000e+01  3.73307903e+00 -7.10542736e-15  8.88178420e-16\n",
            "  5.10000000e+01  3.73307903e+00  7.10542736e-15  4.44089210e-16\n",
            "  5.20000000e+01  3.73307903e+00 -7.10542736e-15  4.44089210e-16\n",
            "  5.30000000e+01  3.73307903e+00 -7.10542736e-15  0.00000000e+00]\n"
          ]
        }
      ]
    },
    {
      "cell_type": "markdown",
      "source": [
        "## Método de regla falsa\n",
        "\n"
      ],
      "metadata": {
        "id": "Q_5o_lluADDb"
      }
    },
    {
      "cell_type": "markdown",
      "source": [
        "Este método es cuando tenemos una función de una variable f(x) y la función es continua en [a,b] y tiene cambio de signo a lo largo de su gráfica.\n",
        "\n",
        "En el método de regla falsa lo que hacemos es hallar la recta que une los puntos (a,f(a)) y (b,f(b))\n"
      ],
      "metadata": {
        "id": "3BkUZI3QAP6T"
      }
    },
    {
      "cell_type": "code",
      "source": [
        "def reglaFalsa(a,b,tolerancia, delta, Nmax): # Intervalo cambio de signo, criterios de paradad (tolerancia, delta, número máximo)\n",
        "  i = 0;                   # contador\n",
        "  d = delta + 1            # le sumamos 1 para que el delta sea mayor y pueda entrar al ciclo | d es el valor absoluto de y\n",
        "  error = tolerancia + 1   # Error < épsilon\n",
        "  s = np.array([])         # Solución\n",
        "  aux = a                  # Variable auxiliar\n",
        "\n",
        "  while (error > tolerancia) and (delta < d) and (Nmax > i):\n",
        "    i += 1\n",
        "    x = a - (funcion(a)*(b-a))/(funcion(b)-funcion(a))\n",
        "    y = funcion(x)         # Función\n",
        "    d = abs(y)\n",
        "    error = abs(x - aux)\n",
        "    fila = np.array([i,x,y,error])\n",
        "    s = np.append(s, fila)\n",
        "\n",
        "    if (y*funcion(a) < 0):\n",
        "      b = x\n",
        "    else:\n",
        "      a = x\n",
        "\n",
        "    aux = x                # Ese error es calculado respecto a la x inmediatamente anterior\n",
        "\n",
        "  print(s)"
      ],
      "metadata": {
        "id": "X3v7giISAJko"
      },
      "execution_count": null,
      "outputs": []
    },
    {
      "cell_type": "code",
      "source": [
        "reglaFalsa(-1,0,0,0,200)"
      ],
      "metadata": {
        "colab": {
          "base_uri": "https://localhost:8080/"
        },
        "id": "eQwtTHdHDsXZ",
        "outputId": "0034022c-d7d3-4e90-868e-052f98cbd6c7"
      },
      "execution_count": null,
      "outputs": [
        {
          "output_type": "stream",
          "name": "stdout",
          "text": [
            "[ 1.00000000e+00 -2.75321258e-01 -5.31922759e-01  7.24678742e-01\n",
            "  2.00000000e+00 -3.97150537e-01 -1.99047176e-01  1.21829279e-01\n",
            "  3.00000000e+00 -4.39534279e-01 -6.47652856e-02  4.23837421e-02\n",
            "  4.00000000e+00 -4.52993774e-01 -2.01120132e-02  1.34594954e-02\n",
            "  5.00000000e+00 -4.57141750e-01 -6.15485455e-03  4.14797577e-03\n",
            "  6.00000000e+00 -4.58408188e-01 -1.87512864e-03  1.26643851e-03\n",
            "  7.00000000e+00 -4.58793745e-01 -5.70492664e-04  3.85556561e-04\n",
            "  8.00000000e+00 -4.58911022e-01 -1.73495498e-04  1.17277034e-04\n",
            "  9.00000000e+00 -4.58946685e-01 -5.27559383e-05  3.56633794e-05\n",
            "  1.00000000e+01 -4.58957530e-01 -1.60412338e-05  1.08441853e-05\n",
            "  1.10000000e+01 -4.58960827e-01 -4.87752044e-06  3.29731699e-06\n",
            "  1.20000000e+01 -4.58961830e-01 -1.48306055e-06  1.00258505e-06\n",
            "  1.30000000e+01 -4.58962134e-01 -4.50939413e-07  3.04846186e-07\n",
            "  1.40000000e+01 -4.58962227e-01 -1.37112600e-07  9.26915201e-08\n",
            "  1.50000000e+01 -4.58962255e-01 -4.16904413e-08  2.81837743e-08\n",
            "  1.60000000e+01 -4.58962264e-01 -1.26763907e-08  8.56955495e-09\n",
            "  1.70000000e+01 -4.58962266e-01 -3.85438181e-09  2.60565791e-09\n",
            "  1.80000000e+01 -4.58962267e-01 -1.17196275e-09  7.92276023e-10\n",
            "  1.90000000e+01 -4.58962267e-01 -3.56346952e-10  2.40899301e-10\n",
            "  2.00000000e+01 -4.58962268e-01 -1.08350773e-10  7.32478522e-11\n",
            "  2.10000000e+01 -4.58962268e-01 -3.29449801e-11  2.22717400e-11\n",
            "  2.20000000e+01 -4.58962268e-01 -1.00176534e-11  6.77180534e-12\n",
            "  2.30000000e+01 -4.58962268e-01 -3.04567482e-12  2.05924167e-12\n",
            "  2.40000000e+01 -4.58962268e-01 -9.26037025e-13  6.26054764e-13\n",
            "  2.50000000e+01 -4.58962268e-01 -2.81663581e-13  1.90292226e-13\n",
            "  2.60000000e+01 -4.58962268e-01 -8.59312621e-14  5.78426196e-14\n",
            "  2.70000000e+01 -4.58962268e-01 -2.60902411e-14  1.76525461e-14\n",
            "  2.80000000e+01 -4.58962268e-01 -7.66053887e-15  5.44009282e-15\n",
            "  2.90000000e+01 -4.58962268e-01 -2.33146835e-15  1.55431223e-15\n",
            "  3.00000000e+01 -4.58962268e-01 -8.88178420e-16  4.44089210e-16\n",
            "  3.10000000e+01 -4.58962268e-01 -2.22044605e-16  2.22044605e-16\n",
            "  3.20000000e+01 -4.58962268e-01  2.22044605e-16  1.11022302e-16\n",
            "  3.30000000e+01 -4.58962268e-01  1.11022302e-16  5.55111512e-17\n",
            "  3.40000000e+01 -4.58962268e-01  1.11022302e-16  0.00000000e+00]\n"
          ]
        }
      ]
    },
    {
      "cell_type": "markdown",
      "source": [
        "En bisección y en regla falsa no está dando lo mismo ya que le estamos poniendo los criteriso de parada más exigente, entonces el resultado es el mimo. Pero el cambio se ve en el número de iteraciones. jasfjsojsle jfjlsos fjkjjjk hlkhhihijiiii"
      ],
      "metadata": {
        "id": "x9hUgKcpD-tw"
      }
    },
    {
      "cell_type": "markdown",
      "source": [
        "## Ejercicio"
      ],
      "metadata": {
        "id": "_H1Js4K_FikU"
      }
    },
    {
      "cell_type": "markdown",
      "source": [
        "La siguiente función representa una aproximación de la tasa del interes anual I, con la que se conseguiria un capital acumulado A, tras hacer 250 depositos mensuales.\n",
        "\n",
        "A = (p/(I/12))((1+I/12)**250 - 1)\n",
        "\n",
        "Use el método de regla falsa para determinar la tasa de interes, con una calidad de 0.001%, si la cantidad depositada es p = 420 dólares y el capital esperado es de US$ 300000.\n",
        "\n",
        "Remplazamos e igualamos a 0:\n",
        "\n",
        "300000 = (420/(I/12))((1+I/12)**250 - 1)\n",
        "\n",
        "0 = (5040/I)((1+I/12)**250 - 1) - 300000\n",
        "\n",
        "Es continua en los reales diferentes de 0, pero como estamos hablando de interes el interes no pued ser negativo, y como el interes es un porcentaje entonces va de (0,1]"
      ],
      "metadata": {
        "id": "ebCNfvdSFlqe"
      }
    },
    {
      "cell_type": "code",
      "source": [
        "def funcion(x):\n",
        "  y = (420/(x/12))*((1+x/12)**250 - 1)-300000\n",
        "  return y"
      ],
      "metadata": {
        "id": "gWtTlkq4LJcN"
      },
      "execution_count": null,
      "outputs": []
    },
    {
      "cell_type": "code",
      "source": [
        "funcion(0.08)"
      ],
      "metadata": {
        "colab": {
          "base_uri": "https://localhost:8080/"
        },
        "id": "NQZIb6p0MaND",
        "outputId": "aaeb2a41-a8b5-4541-86cf-b707f5bc74c1"
      },
      "execution_count": null,
      "outputs": [
        {
          "output_type": "execute_result",
          "data": {
            "text/plain": [
              "-31286.910824706254"
            ]
          },
          "metadata": {},
          "execution_count": 24
        }
      ]
    },
    {
      "cell_type": "code",
      "source": [
        "def reglaFalsa(a,b,tolerancia, delta, Nmax): # Intervalo cambio de signo, criterios de paradad (tolerancia, delta, número máximo)\n",
        "  i = 0;                   # contador\n",
        "  d = delta + 1            # le sumamos 1 para que el delta sea mayor y pueda entrar al ciclo | d es el valor absoluto de y\n",
        "  error = tolerancia + 1   # Error < épsilon\n",
        "  s = np.array([])         # Solución\n",
        "  aux = a                  # Variable auxiliar\n",
        "\n",
        "  while (error > tolerancia) and (delta < d) and (Nmax > i):\n",
        "    i += 1\n",
        "    x = a - (funcion(a)*(b-a))/(funcion(b)-funcion(a))\n",
        "    y = funcion(x)         # Función\n",
        "    d = abs(y)\n",
        "\n",
        "    # Error normal\n",
        "    # error = abs(x - aux)\n",
        "\n",
        "    # Error relativo\n",
        "    error = abs(x - aux)/abs(x)\n",
        "\n",
        "    fila = np.array([i,x,y,error])\n",
        "    s = np.append(s, fila)\n",
        "\n",
        "    if (y*funcion(a) < 0):\n",
        "      b = x\n",
        "    else:\n",
        "      a = x\n",
        "\n",
        "    aux = x                # Ese error es calculado respecto a la x inmediatamente anterior\n",
        "\n",
        "  print(s)"
      ],
      "metadata": {
        "id": "0nmhC_2kG8tv"
      },
      "execution_count": null,
      "outputs": []
    },
    {
      "cell_type": "code",
      "source": [
        "reglaFalsa(0.08,0.09,0.00001,0,200)"
      ],
      "metadata": {
        "colab": {
          "base_uri": "https://localhost:8080/"
        },
        "id": "OP9rquFDD1hV",
        "outputId": "c84f1ce3-7c24-4936-b060-6d129af05cdc"
      },
      "execution_count": null,
      "outputs": [
        {
          "output_type": "stream",
          "name": "stdout",
          "text": [
            "[ 1.00000000e+00  8.82536208e-02 -4.29330550e+02  9.35216113e-02\n",
            "  2.00000000e+00  8.83599821e-02 -5.43693231e+00  1.20372710e-03\n",
            "  3.00000000e+00  8.83613280e-02 -6.87796985e-02  1.52309510e-05\n",
            "  4.00000000e+00  8.83613450e-02 -8.70069256e-04  1.92676508e-07]\n"
          ]
        }
      ]
    },
    {
      "cell_type": "markdown",
      "source": [
        "# Método de Punto Fijo"
      ],
      "metadata": {
        "id": "LXANvHU63S-c"
      }
    },
    {
      "cell_type": "markdown",
      "source": [
        "Sea CER, diremos que C es un punto fijo de la función g(x) si:\n",
        "\n",
        "g(c) = c\n",
        "\n",
        "### Ejemplo:\n",
        "1. g(x) = x^2\n",
        "\n",
        "   g(0) = 0^2 = 0\n",
        "\n",
        "   g(1) = 1^2 = 1\n",
        "\n",
        "2. g(x) = sen(x)\n",
        "\n",
        "   g(0) = sen(0) = 0\n",
        "\n",
        "Los puntos fijos coiciden con los interceptos que tiene cualquier función con la fucnión y = x.\n",
        "\n",
        "### Teorema de Punto Fijo.\n",
        "\n",
        "Sea g(x) continua en [a,b]\n",
        "\n",
        "  1. Si g(x) E [a,b] para toda X E [a,b], entonces g tiene al menos un punto fijo en [a,b].\n",
        "\n",
        "  2. Si ademas g'(x) está definida para todo XE(a,b) y |g'(x)| < 1 para todo XE(a,b), entonces el punto fijio es único. -1<g'(x)<1.\n",
        "\n",
        "  3. La iteración Xn+1 = g(x) converge al punto fijo para todo X0E[a,b]\n",
        "\n",
        "      X0\n",
        "      \n",
        "      X1 = g(X0)\n",
        "\n",
        "      X2 = g(X1)\n",
        "\n",
        "      X3 = g(X2)\n",
        "\n",
        "      En los ejercicios de punto fijo tenemos que encontrar la g(x). Esto se usa para los métodos iterativos para resolver sistemas de ecuaciones lineales."
      ],
      "metadata": {
        "id": "R-tDjzQM3ZXm"
      }
    },
    {
      "cell_type": "code",
      "source": [
        "import numpy as np\n",
        "import matplotlib.pyplot as plt\n",
        "\n",
        "# Definimos el rango de valores para x\n",
        "x = np.linspace(-2, 2, 100)\n",
        "\n",
        "# Definimos las funciones\n",
        "y1 = x**2\n",
        "y2 = x\n",
        "\n",
        "# Creamos la figura\n",
        "fig = plt.figure()\n",
        "\n",
        "# Creamos el subplot\n",
        "ax = fig.add_subplot(111)\n",
        "\n",
        "# Dibujamos las gráficas\n",
        "ax.plot(x, y1, label='$y = x^2$')\n",
        "ax.plot(x, y2, label='$y = x$')\n",
        "\n",
        "# Dibujamos las líneas verticales en los interceptos\n",
        "ax.axvline(0, linestyle=\"--\", color=\"black\")\n",
        "ax.axhline(0, linestyle=\"--\", color=\"black\")\n",
        "\n",
        "# Añadimos las etiquetas\n",
        "ax.set_xlabel('$x$')\n",
        "ax.set_ylabel('$y$')\n",
        "\n",
        "# Añadimos el título\n",
        "ax.set_title('Gráficas de $y = x^2$ y $y = x$')\n",
        "\n",
        "# Añadimos la leyenda\n",
        "ax.legend()\n",
        "\n",
        "# Mostramos la figura\n",
        "plt.show()\n"
      ],
      "metadata": {
        "colab": {
          "base_uri": "https://localhost:8080/",
          "height": 476
        },
        "id": "tAIHmVNu3Uvz",
        "outputId": "f89300a2-8135-4f05-8bcd-e40f355feeee"
      },
      "execution_count": null,
      "outputs": [
        {
          "output_type": "display_data",
          "data": {
            "text/plain": [
              "<Figure size 640x480 with 1 Axes>"
            ],
            "image/png": "[encoded data removed]"
          },
          "metadata": {}
        }
      ]
    },
    {
      "cell_type": "markdown",
      "source": [
        "## Ejemplo de punto fijo"
      ],
      "metadata": {
        "id": "W_1uex1S7vHv"
      }
    },
    {
      "cell_type": "markdown",
      "source": [
        "Mejor aproximación de:\n",
        "\n",
        "3x^2 -e^x = 0\n",
        "\n",
        "Cambios de signo:\n",
        "\n",
        "  [-1,0]\n",
        "\n",
        "  [0,1]\n",
        "\n",
        "  [3,4]\n",
        "\n",
        "Criterios de parada:\n",
        "\n",
        "Ea = 0  ó  S = 0\n",
        "\n",
        "Función g:\n",
        "\n",
        "f(x) => x = g(x)\n"
      ],
      "metadata": {
        "id": "e2X-Y70Y72Ep"
      }
    },
    {
      "cell_type": "code",
      "source": [
        "# Definimos la función g y la función\n",
        "\n",
        "def funciong(x):\n",
        "  y = -np.sqrt(np.exp(x)/3)\n",
        "  return y\n",
        "\n",
        "def funcion(x):\n",
        "  y = 3*x**2 - np.exp(x)\n",
        "  return y"
      ],
      "metadata": {
        "id": "1xPIm40V_47W"
      },
      "execution_count": null,
      "outputs": []
    },
    {
      "cell_type": "code",
      "source": [
        "# Es recomedable evaluar para verificar que esté bien\n",
        "\n",
        "print(funciong(-1))"
      ],
      "metadata": {
        "colab": {
          "base_uri": "https://localhost:8080/"
        },
        "id": "cgoktENRAOq6",
        "outputId": "6e1c547e-c51c-46a8-aa47-75abcf3e38d1"
      },
      "execution_count": null,
      "outputs": [
        {
          "output_type": "stream",
          "name": "stdout",
          "text": [
            "-0.3501806396568502\n"
          ]
        }
      ]
    },
    {
      "cell_type": "code",
      "source": [
        "def puntoFijo(x_0, tolerancia, delta, Nmax): # Intervalo cambio de signo, criterios de paradad (tolerancia, delta, número máximo)\n",
        "  i = 0;                   # contador\n",
        "  d = delta + 1            # le sumamos 1 para que el delta sea mayor y pueda entrar al ciclo | d es el valor absoluto de y\n",
        "  error = tolerancia + 1   # Error < épsilon\n",
        "  s = np.array([])         # Solución\n",
        "\n",
        "  while (error > tolerancia) and (delta < d) and (Nmax > i):\n",
        "    i += 1\n",
        "    x = funciong(x_0)      # es g evaluda en X_0\n",
        "    y = funcion(x)         # Función normal\n",
        "    d = abs(y)             # delta\n",
        "\n",
        "    # Error normal\n",
        "    error = abs(x - x_0)\n",
        "\n",
        "    # Error relativo\n",
        "    # error = abs(x - x_0)/abs(x)\n",
        "\n",
        "    fila = np.array([i,x,y,error])\n",
        "    s = np.append(s, fila) # Para ir agregando la fila\n",
        "\n",
        "    x_0 = x # Cálculo del error respecto a la x anterior\n",
        "\n",
        "  print(s)"
      ],
      "metadata": {
        "id": "sFcBgi7Z_m08"
      },
      "execution_count": null,
      "outputs": []
    },
    {
      "cell_type": "code",
      "source": [
        "puntoFijo(-0.5,0,0,200)\n",
        "\n",
        "# Empezamos desde el punto medio"
      ],
      "metadata": {
        "colab": {
          "base_uri": "https://localhost:8080/"
        },
        "id": "hXxif-nLEu9W",
        "outputId": "0a93db90-b272-4717-a29c-01be8a2f8be5"
      },
      "execution_count": null,
      "outputs": [
        {
          "output_type": "stream",
          "name": "stdout",
          "text": [
            "[ 1.00000000e+00 -4.49640842e-01 -3.13265424e-02  5.03591582e-02\n",
            "  2.00000000e+00 -4.61106351e-01  7.27159205e-03  1.14655097e-02\n",
            "  3.00000000e+00 -4.58470504e-01 -1.66431975e-03  2.63584713e-03\n",
            "  4.00000000e+00 -4.59075132e-01  3.82160100e-04  6.04627421e-04\n",
            "  5.00000000e+00 -4.58936368e-01 -8.76864125e-05  1.38763730e-04\n",
            "  6.00000000e+00 -4.58968211e-01  2.01230156e-05  3.18429658e-05\n",
            "  7.00000000e+00 -4.58960904e-01 -4.61781883e-06  7.30739636e-06\n",
            "  8.00000000e+00 -4.58962581e-01  1.05970407e-06  1.67690768e-06\n",
            "  9.00000000e+00 -4.58962196e-01 -2.43181998e-07  3.84818777e-07\n",
            "  1.00000000e+01 -4.58962284e-01  5.58056856e-08  8.83086440e-08\n",
            "  1.10000000e+01 -4.58962264e-01 -1.28063518e-08  2.02651680e-08\n",
            "  1.20000000e+01 -4.58962268e-01  2.93881619e-09  4.65047373e-09\n",
            "  1.30000000e+01 -4.58962267e-01 -6.74402645e-10  1.06719594e-09\n",
            "  1.40000000e+01 -4.58962268e-01  1.54762647e-10  2.44901266e-10\n",
            "  1.50000000e+01 -4.58962268e-01 -3.55151464e-11  5.62002112e-11\n",
            "  1.60000000e+01 -4.58962268e-01  8.14992518e-12  1.28969058e-11\n",
            "  1.70000000e+01 -4.58962268e-01 -1.87028171e-12  2.95957703e-12\n",
            "  1.80000000e+01 -4.58962268e-01  4.29212221e-13  6.79178935e-13\n",
            "  1.90000000e+01 -4.58962268e-01 -9.84767823e-14  1.55875313e-13\n",
            "  2.00000000e+01 -4.58962268e-01  2.26485497e-14  3.57491814e-14\n",
            "  2.10000000e+01 -4.58962268e-01 -5.21804822e-15  8.21565038e-15\n",
            "  2.20000000e+01 -4.58962268e-01  1.22124533e-15  1.88737914e-15\n",
            "  2.30000000e+01 -4.58962268e-01 -3.33066907e-16  4.44089210e-16\n",
            "  2.40000000e+01 -4.58962268e-01  1.11022302e-16  1.11022302e-16\n",
            "  2.50000000e+01 -4.58962268e-01  1.11022302e-16  0.00000000e+00]\n"
          ]
        }
      ]
    },
    {
      "cell_type": "markdown",
      "source": [
        "## EJemplo:"
      ],
      "metadata": {
        "id": "-EJ2IsYYHPKc"
      }
    },
    {
      "cell_type": "markdown",
      "source": [
        "El movimiento de un proyectil lanzado con ángulo de elevación Q está descrito por las siguientes ecuaciones\n",
        "\n",
        "y = 9700(1-e^(-t/15)) - 480t\n",
        "\n",
        "x = 2400(1-e^(-t/15))\n",
        "\n",
        "donde t se mide en segundos, x y y en pies.\n",
        "\n",
        "Use el método de punto fijo para hallar el tiempo en el cual el proyectil impacta con un precision de milésimas de segundos o diezmilésimas de pie, y úselo para determinar el alcance máximjo del proyectil\n",
        "\n"
      ],
      "metadata": {
        "id": "6EoudVS_HWTV"
      }
    },
    {
      "cell_type": "code",
      "source": [
        "# Definimos la función g y la función\n",
        "\n",
        "def funciong(x):\n",
        "  y = (970/48)*(1-np.exp(-x/15))\n",
        "  return y\n",
        "\n",
        "def funcion(x):\n",
        "  y = 9700*(1-np.exp(-x/15)) - 480*x\n",
        "  return y"
      ],
      "metadata": {
        "id": "tPXjNF0EMa2h"
      },
      "execution_count": null,
      "outputs": []
    },
    {
      "cell_type": "code",
      "source": [
        "funciong(9)"
      ],
      "metadata": {
        "colab": {
          "base_uri": "https://localhost:8080/"
        },
        "id": "8UrZZPkJM5zB",
        "outputId": "7edae051-58f6-475f-9002-53b4aff613e2"
      },
      "execution_count": null,
      "outputs": [
        {
          "output_type": "execute_result",
          "data": {
            "text/plain": [
              "9.117764853933217"
            ]
          },
          "metadata": {},
          "execution_count": 15
        }
      ]
    },
    {
      "cell_type": "code",
      "source": [
        "puntoFijo(9,10**-3,10**-4,200)"
      ],
      "metadata": {
        "colab": {
          "base_uri": "https://localhost:8080/"
        },
        "id": "lbod4256NGdU",
        "outputId": "685d3f54-a401-4879-895b-b18a2fda8da4"
      },
      "execution_count": null,
      "outputs": [
        {
          "output_type": "stream",
          "name": "stdout",
          "text": [
            "[1.00000000e+00 9.11776485e+00 4.16308979e+01 1.17764854e-01\n",
            " 2.00000000e+00 9.20449589e+00 3.04518534e+01 8.67310374e-02\n",
            " 3.00000000e+00 9.26793725e+00 2.21634535e+01 6.34413612e-02\n",
            " 4.00000000e+00 9.31411111e+00 1.60721560e+01 4.61738614e-02\n",
            " 5.00000000e+00 9.34759477e+00 1.16240536e+01 3.34836583e-02\n",
            " 6.00000000e+00 9.37181155e+00 8.39084554e+00 2.42167783e-02\n",
            " 7.00000000e+00 9.38929248e+00 6.04853490e+00 1.74809282e-02\n",
            " 8.00000000e+00 9.40189359e+00 4.35571204e+00 1.26011144e-02\n",
            " 9.00000000e+00 9.41096799e+00 3.13439943e+00 9.07440009e-03\n",
            " 1.00000000e+01 9.41749799e+00 2.25436181e+00 6.52999881e-03\n",
            " 1.10000000e+01 9.42219458e+00 1.62080353e+00 4.69658710e-03\n",
            " 1.20000000e+01 9.42557125e+00 1.16498479e+00 3.37667402e-03\n",
            " 1.30000000e+01 9.42799830e+00 8.37194024e-01 2.42705165e-03\n",
            " 1.40000000e+01 9.42974246e+00 6.01549817e-01 1.74415422e-03\n",
            " 1.50000000e+01 9.43099569e+00 4.32188978e-01 1.25322879e-03\n",
            " 1.60000000e+01 9.43189608e+00 3.10487841e-01 9.00393705e-04]\n"
          ]
        }
      ]
    },
    {
      "cell_type": "markdown",
      "source": [
        "# Método de Newton-Raphson"
      ],
      "metadata": {
        "id": "EBc8_SezMwBc"
      }
    },
    {
      "cell_type": "code",
      "source": [
        "def funcion(x):\n",
        "  y = 3*x**2-np.exp(x)\n",
        "  return y"
      ],
      "metadata": {
        "id": "k4N5eaIEMzsN"
      },
      "execution_count": 1,
      "outputs": []
    },
    {
      "cell_type": "code",
      "source": [
        "print(funcion(0))"
      ],
      "metadata": {
        "colab": {
          "base_uri": "https://localhost:8080/"
        },
        "id": "W9kMt5xiP8-q",
        "outputId": "6bb84f1f-b8bb-4b01-deec-efbdf71a90bd"
      },
      "execution_count": 4,
      "outputs": [
        {
          "output_type": "stream",
          "name": "stdout",
          "text": [
            "-1.0\n"
          ]
        }
      ]
    },
    {
      "cell_type": "code",
      "source": [
        "def derivada(x):\n",
        "  y = 6*x - np.exp(x)\n",
        "  return y"
      ],
      "metadata": {
        "id": "tp8H5XhlQAib"
      },
      "execution_count": 5,
      "outputs": []
    },
    {
      "cell_type": "code",
      "source": [
        "print(derivada(0))"
      ],
      "metadata": {
        "colab": {
          "base_uri": "https://localhost:8080/"
        },
        "id": "wtI2HyGeRLN9",
        "outputId": "98433059-1920-45ee-9eb9-61628f1bf67d"
      },
      "execution_count": 6,
      "outputs": [
        {
          "output_type": "stream",
          "name": "stdout",
          "text": [
            "-1.0\n"
          ]
        }
      ]
    },
    {
      "cell_type": "code",
      "source": [
        "def newton(x_0, tolerancia, delta, Nmax): # x inicial, criterios de paradad (tolerancia, delta, número máximo)\n",
        "  i = 0;                   # contador\n",
        "  d = delta + 1            # le sumamos 1 para que el delta sea mayor y pueda entrar al ciclo | d es el valor absoluto de y\n",
        "  error = tolerancia + 1   # Error < épsilon\n",
        "  s = np.array([])         # Solución\n",
        "\n",
        "  while (error > tolerancia) and (delta < d) and (Nmax > i):\n",
        "    i += 1\n",
        "\n",
        "    # aquí la x es lo que está en mi cuaderno en un cuadro amarillo, es lo único que cambia\n",
        "    x = x_0-(funcion(x_0)/derivada(x_0))\n",
        "\n",
        "    y = funcion(x)         # Función normal\n",
        "    d = abs(y)             # delta\n",
        "\n",
        "    # Error normal\n",
        "    error = abs(x - x_0)\n",
        "\n",
        "    # Error relativo\n",
        "    # error = abs(x - x_0)/abs(x)\n",
        "\n",
        "    fila = np.array([i,x,y,error])\n",
        "    s = np.append(s, fila) # Para ir agregando la fila\n",
        "\n",
        "    x_0 = x # Cálculo del error respecto a la x anterior\n",
        "\n",
        "  print(s)"
      ],
      "metadata": {
        "id": "pbOKZx-qRN0M"
      },
      "execution_count": 8,
      "outputs": []
    },
    {
      "cell_type": "code",
      "source": [
        "newton()"
      ],
      "metadata": {
        "id": "ZHKOKtmER7oH"
      },
      "execution_count": null,
      "outputs": []
    }
  ]
}